{
  "cells": [
    {
      "cell_type": "markdown",
      "metadata": {
        "id": "-pfA1XNq2RnI"
      },
      "source": [
        "# 3D Data Processing\n",
        "## Lab - PointNet: Point Cloud 3D Descriptors\n",
        "\n",
        "original paper -\n",
        "[PointNet: Deep Learning on Point Sets for 3D Classification and Segmentation](https://web.stanford.edu/~rqi/pointnet/)\n"
      ]
    },
    {
      "cell_type": "code",
      "execution_count": 244,
      "metadata": {
        "id": "hc7eaUqkcmAz"
      },
      "outputs": [],
      "source": [
        "import numpy as np\n",
        "import random\n",
        "import math\n",
        "import time\n",
        "import copy\n",
        "import os\n",
        "import glob\n",
        "\n",
        "import matplotlib.pyplot as plt\n",
        "from scipy.spatial.transform import Rotation as R\n",
        "\n",
        "# pyTorch imports\n",
        "import torch\n",
        "import torch.nn as nn\n",
        "import torch.nn.functional as F\n",
        "from torch.utils.data import Dataset, DataLoader\n",
        "\n",
        "# a nice training progress bar\n",
        "from tqdm import tqdm, trange"
      ]
    },
    {
      "cell_type": "code",
      "execution_count": 245,
      "metadata": {
        "colab": {
          "base_uri": "https://localhost:8080/",
          "height": 1000
        },
        "id": "qSyKEXWMmI2Y",
        "outputId": "5d1541cd-a183-4333-adb8-f679af11bee0"
      },
      "outputs": [],
      "source": [
        "running_on_colab = False\n",
        "\n",
        "if running_on_colab:\n",
        "    # useful for visualization\n",
        "    ## note: it's not necessary to restart the notebook environment after installation\n",
        "    !pip install open3d\n",
        "\n",
        "    import plotly.graph_objects as go\n",
        "\n",
        "# visualization\n",
        "import open3d as o3d\n"
      ]
    },
    {
      "cell_type": "markdown",
      "metadata": {
        "id": "DuR9palyGqil"
      },
      "source": [
        "# Connect and mount your Google Drive"
      ]
    },
    {
      "cell_type": "code",
      "execution_count": 3,
      "metadata": {
        "colab": {
          "base_uri": "https://localhost:8080/"
        },
        "id": "Wjgl1d34-CWw",
        "outputId": "ce92a3ea-8f5e-4d64-c609-fd59696aaf8f"
      },
      "outputs": [],
      "source": [
        "if running_on_colab:\n",
        "    from google.colab import drive\n",
        "    drive_path = '/content/drive'\n",
        "    drive.mount(drive_path)"
      ]
    },
    {
      "cell_type": "markdown",
      "metadata": {
        "id": "hK1CJSoJGvi7"
      },
      "source": [
        "# General Parameters"
      ]
    },
    {
      "cell_type": "code",
      "execution_count": 246,
      "metadata": {
        "id": "1LWQSdhp3CiT"
      },
      "outputs": [],
      "source": [
        "if running_on_colab:\n",
        "    dataset_path_train = os.path.join(drive_path, \"MyDrive\", \"3D_dp_dataset\", \"3dshapes\", \"train\")\n",
        "    dataset_path_valid = os.path.join(drive_path, \"MyDrive\", \"3D_dp_dataset\", \"3dshapes\", \"valid\")\n",
        "    dataset_path_test = os.path.join(drive_path,  \"MyDrive\", \"3D_dp_dataset\", \"3dshapes\", \"test\")\n",
        "else:\n",
        "    dataset_path_train = os.path.join(\"datasets\", \"train\")\n",
        "    dataset_path_valid = os.path.join(\"datasets\", \"valid\")\n",
        "    dataset_path_test = os.path.join(\"datasets\", \"test\")"
      ]
    },
    {
      "cell_type": "markdown",
      "metadata": {
        "id": "VWcO-JoNzH17"
      },
      "source": [
        "# Visualization Example\n",
        "In order to visualize colored point clouds we make use of the Python package *Open3D*.\n",
        "\n",
        "Unfortunately, the original doesn't run on Colab.\n",
        "So, we replace the drawing function with a custom one (*draw_geometries*) that allows for rendering here on Colab.\n",
        "\n"
      ]
    },
    {
      "cell_type": "code",
      "execution_count": 213,
      "metadata": {
        "id": "9ceZKVwpfdG0"
      },
      "outputs": [],
      "source": [
        "if running_on_colab:\n",
        "    def draw_geometries(geometries):\n",
        "        graph_objects = []\n",
        "\n",
        "        for geometry in geometries:\n",
        "            geometry_type = geometry.get_geometry_type()\n",
        "\n",
        "            if geometry_type == o3d.geometry.Geometry.Type.PointCloud:\n",
        "                points = np.asarray(geometry.points)\n",
        "                colors = None\n",
        "                if geometry.has_colors():\n",
        "                    colors = np.asarray(geometry.colors)\n",
        "                elif geometry.has_normals():\n",
        "                    colors = (0.5, 0.5, 0.5) + np.asarray(geometry.normals) * 0.5\n",
        "                else:\n",
        "                    geometry.paint_uniform_color((1.0, 0.0, 0.0))\n",
        "                    colors = np.asarray(geometry.colors)\n",
        "\n",
        "                scatter_3d = go.Scatter3d(x=points[:,0], y=points[:,1], z=points[:,2], mode='markers', marker=dict(size=1, color=colors))\n",
        "                graph_objects.append(scatter_3d)\n",
        "\n",
        "            if geometry_type == o3d.geometry.Geometry.Type.TriangleMesh:\n",
        "                triangles = np.asarray(geometry.triangles)\n",
        "                vertices = np.asarray(geometry.vertices)\n",
        "                colors = None\n",
        "                if geometry.has_triangle_normals():\n",
        "                    colors = (0.5, 0.5, 0.5) + np.asarray(geometry.triangle_normals) * 0.5\n",
        "                    colors = tuple(map(tuple, colors))\n",
        "                else:\n",
        "                    colors = (1.0, 0.0, 0.0)\n",
        "\n",
        "                mesh_3d = go.Mesh3d(x=vertices[:,0], y=vertices[:,1], z=vertices[:,2], i=triangles[:,0], j=triangles[:,1], k=triangles[:,2], facecolor=colors, opacity=0.50)\n",
        "                graph_objects.append(mesh_3d)\n",
        "\n",
        "        fig = go.Figure(\n",
        "            data=graph_objects,\n",
        "            layout=dict(\n",
        "                scene=dict(\n",
        "                    xaxis=dict(visible=False),\n",
        "                    yaxis=dict(visible=False),\n",
        "                    zaxis=dict(visible=False),\n",
        "                    aspectmode='data'\n",
        "                )\n",
        "            )\n",
        "        )\n",
        "        fig.show()"
      ]
    },
    {
      "cell_type": "code",
      "execution_count": 247,
      "metadata": {
        "id": "ywtBnEqw10u3"
      },
      "outputs": [],
      "source": [
        "if running_on_colab:\n",
        "    o3d.visualization.draw_geometries = draw_geometries\n",
        "\n",
        "anchor_color   = [0, 0, 1.0] # blue\n",
        "positive_color = [0, 1.0, 0] # green\n",
        "negative_color = [1.0, 0, 0] # red\n",
        "p_colors = [anchor_color, positive_color, negative_color]\n",
        "\n",
        "def visualize( pointcloud:np.array =None,\n",
        "               anchor    :np.array =None,\n",
        "               positive  :np.array =None,\n",
        "               negative  :np.array =None,\n",
        "               radius    :np.array =None,\n",
        "               rot_mat   :np.array =None):\n",
        "    \"\"\"\n",
        "    INPUT\n",
        "      pointcloud : numpy array of 3D points\n",
        "      anchor     : anchor point\n",
        "      positive   :\n",
        "      negative   :\n",
        "    \"\"\"\n",
        "    geoms = []\n",
        "    if pointcloud is not None:\n",
        "        pcd = o3d.geometry.PointCloud()\n",
        "        pcd.points = o3d.utility.Vector3dVector(pointcloud)\n",
        "        pcd.paint_uniform_color([0.6, 0.6, 0.6])\n",
        "        if rot_mat is not None:\n",
        "            pcd.rotate(rot_mat, center=(0, 0, 0))\n",
        "        geoms.append(pcd)\n",
        "    for point, color in zip([anchor, positive, negative], p_colors):\n",
        "        if point is not None:\n",
        "            assert radius is not None\n",
        "            sphere = o3d.geometry.TriangleMesh.create_sphere(radius=radius, resolution=20)\n",
        "            sphere.translate(point)\n",
        "            sphere.paint_uniform_color(color)\n",
        "            geoms.append(sphere)\n",
        "    # visualize the colored point cloud\n",
        "    o3d.visualization.draw_geometries(geoms)"
      ]
    },
    {
      "cell_type": "markdown",
      "metadata": {
        "id": "dLp113kezNBG"
      },
      "source": [
        "# PointCloud Dataset\n",
        "\n"
      ]
    },
    {
      "cell_type": "code",
      "execution_count": null,
      "metadata": {
        "id": "C2NuVvQCweUS"
      },
      "outputs": [],
      "source": [
        "from pickle import FALSE\n",
        "class PointCloudData(Dataset):\n",
        "    def __init__(self,\n",
        "                dataset_path: str,\n",
        "                samples_per_epoch: int,\n",
        "                points_to_sample:int = 200000,\n",
        "                radius:float =0.02,\n",
        "                min_dist=1.5e-2,\n",
        "                N = 750,\n",
        "                noise_mean=0,\n",
        "                noise_variance = 6e-5,\n",
        "                is_test_set=False):\n",
        "        \"\"\"\n",
        "          INPUT\n",
        "              dataset_path: path to the dataset folder\n",
        "              transform   : transform function to apply to point cloud\n",
        "        \"\"\"\n",
        "\n",
        "        self.radius = radius\n",
        "        self.min_dist = min_dist\n",
        "        self.N = N\n",
        "        self.samples_per_epoch = samples_per_epoch\n",
        "        self.points_to_sample = points_to_sample\n",
        "        self.noise_mean = noise_mean\n",
        "        self.noise_variance = noise_variance\n",
        "        self.is_test_set = is_test_set\n",
        "\n",
        "        # _n means noised version\n",
        "        self.mesh = []\n",
        "        self.pcds, self.pcds_n = [], []\n",
        "        self.KDtrees, self.KDtrees_n = [], []\n",
        "\n",
        "        ## if it's the test set, pre-define a random rotation matrix\n",
        "        if self.is_test_set:\n",
        "            self.common_rot_mat = self.get_xyz_random_rotation()\n",
        "\n",
        "        for file in glob.glob(dataset_path + \"/*.ply\"):\n",
        "            print(\"parsing file\", file)\n",
        "            mesh = o3d.io.read_triangle_mesh(file)\n",
        "            pcd = mesh.sample_points_uniformly(self.points_to_sample)\n",
        "            if self.is_test_set:\n",
        "                pcd.rotate(self.common_rot_mat.as_matrix(), center=(0, 0, 0))\n",
        "            pcd_tree = o3d.geometry.KDTreeFlann(pcd)\n",
        "\n",
        "            pcd_n = self.apply_noise(mesh.sample_points_uniformly(self.points_to_sample), self.noise_mean, self.noise_variance)\n",
        "            if self.is_test_set:\n",
        "                pcd_n.rotate(self.common_rot_mat.as_matrix(), center=(0, 0, 0))\n",
        "            pcd_n_tree = o3d.geometry.KDTreeFlann(pcd_n)\n",
        "\n",
        "            self.mesh.append(mesh)\n",
        "\n",
        "            self.pcds.append(np.asarray(pcd.points))\n",
        "            self.pcds_n.append(np.asarray(pcd_n.points))\n",
        "\n",
        "            self.KDtrees.append(pcd_tree)\n",
        "            self.KDtrees_n.append(pcd_n_tree)\n",
        "\n",
        "    # function to apply noise\n",
        "    def apply_noise(self, pcd, mu, sigma):\n",
        "        noisy_pcd = copy.deepcopy(pcd)\n",
        "        points = np.asarray(noisy_pcd.points)\n",
        "        points += np.random.normal(mu, sigma, size=points.shape)\n",
        "        noisy_pcd.points = o3d.utility.Vector3dVector(points)\n",
        "        return noisy_pcd\n",
        "\n",
        "    def __len__(self):\n",
        "        return self.samples_per_epoch\n",
        "\n",
        "    def get_xyz_random_rotation(self):\n",
        "        random_rotation_on_xyz_axis = np.random.rand(3) * 2 * np.pi\n",
        "        return R.from_euler('xyz', random_rotation_on_xyz_axis, degrees=False)\n",
        "\n",
        "    def get_point_cloud_center(self, pc_points):\n",
        "        return pc_points.mean(axis=0)\n",
        "\n",
        "    def apply_rotation(self, point, rot_mat, pcd_center):\n",
        "        return np.dot(point.reshape(1, 3), rot_mat.as_matrix().T)[0, :]\n",
        "\n",
        "    def apply_rotation_pc(self, points, rot_mat, pcd_center):\n",
        "        return np.dot(points, rot_mat.as_matrix().T)\n",
        "\n",
        "    def bufferize_pointcloud(self, points, N):\n",
        "        pc = np.zeros((self.N, 3), dtype=np.float32)\n",
        "        pc[:min(self.N, points.shape[0]), :] = points[:min(self.N, points.shape[0]), :]\n",
        "        return pc\n",
        "\n",
        "    def sample_anchor_point(self, pcd_points, pcd_tree):\n",
        "\n",
        "        anchor_pt = random.choice(pcd_points) #Extract random point from cloud points: it will be the anchor point\n",
        "        num_neighbors, anchor_neighborhood_idxs, distances = pcd_tree.search_radius_vector_3d(anchor_pt, self.radius) #Find neighbors in the sphere with given radius\n",
        "\n",
        "        return anchor_pt, anchor_neighborhood_idxs\n",
        "\n",
        "    def sample_positive_point(self, pcd_n_points, pcd_n_tree, anchor_pt):\n",
        "        _, noisy_anchor_nn_idx, _ = pcd_n_tree.search_knn_vector_3d(anchor_pt, 1) #Find correspective of anchor point in the noisy point cloud\n",
        "\n",
        "        pos_pt = pcd_n_points[noisy_anchor_nn_idx[0]] #As said before, positive sample is set as correspective point of anchor point in the noisy point cloud\n",
        "        _, noisy_positive_neighborhood_idxs, _ = pcd_n_tree.search_radius_vector_3d(pos_pt, self.radius)\n",
        "\n",
        "\n",
        "        return pos_pt, noisy_positive_neighborhood_idxs\n",
        "\n",
        "    def sample_negative_point(self, pcd_n_points, pcd_n_tree, anchor_pt):\n",
        "\n",
        "        flag = False #Flag used to indicate whether a negative point is found or not\n",
        "        neg_pt = [] #Here the found negative point will be stored\n",
        "        noisy_negative_neighborhood_idxs = []\n",
        "\n",
        "        while not flag:\n",
        "          temp_negative_point = random.choice(pcd_n_points) #Extract randomly possible negative point from pcd cloud\n",
        "          if np.linalg.norm(anchor_pt - temp_negative_point) > self.min_dist: #Check if random point is farther than min_dist to anchor_pt\n",
        "            neg_pt = temp_negative_point      #If yes save it as actual neg_pt\n",
        "            _, noisy_negative_neighborhood_idxs, _ = pcd_n_tree.search_radius_vector_3d(neg_pt, self.radius) #Find neg neighborhood\n",
        "            flag = True #We found the point, so we exit the loop\n",
        "\n",
        "        return neg_pt, noisy_negative_neighborhood_idxs\n",
        "\n",
        "    def get_sampled_pointcloud(self, mesh_idx, N):\n",
        "        idxs = np.arange(0, self.pcds[mesh_idx].shape[0], 1)\n",
        "        np.random.shuffle(idxs)\n",
        "        pcd = o3d.geometry.PointCloud()\n",
        "        pcd.points = o3d.utility.Vector3dVector(self.pcds[mesh_idx][idxs[:N]])\n",
        "        return pcd\n",
        "\n",
        "    def generate_test_set(self, mesh_idx, N=500):\n",
        "\n",
        "        self.test_points = self.pcds[mesh_idx]\n",
        "\n",
        "        ## sample test points randomly\n",
        "        idxs = np.arange(0, self.test_points.shape[0], 1)\n",
        "        np.random.shuffle(idxs)\n",
        "        self.test_points_sampled = self.test_points[idxs[:N]]\n",
        "\n",
        "\n",
        "        self.test_tree = self.KDtrees[mesh_idx]\n",
        "\n",
        "    def generate_noisy_test_set(self, mesh_idx):\n",
        "        self.test_points_n = self.pcds_n[mesh_idx]\n",
        "        self.test_tree_n = self.KDtrees_n[mesh_idx]\n",
        "\n",
        "        test_points_sampled_n = []\n",
        "        for i in tqdm(range(self.test_points_sampled.shape[0])):\n",
        "            _, gt_nn_idx, _ = self.test_tree_n.search_knn_vector_3d(self.test_points_sampled[i], 1)\n",
        "            gt_nearest_point = self.test_points_n[gt_nn_idx].squeeze()\n",
        "            test_points_sampled_n.append(gt_nearest_point)\n",
        "\n",
        "        self.test_points_sampled_n = np.asarray(test_points_sampled_n)\n",
        "\n",
        "    def compute_descriptors(self, tinypointnet, noisy=False):\n",
        "        tinypointnet.eval()\n",
        "\n",
        "        if noisy:\n",
        "            queries = self.test_points_sampled_n\n",
        "            tree    = self.test_tree_n\n",
        "            points  = self.test_points_n\n",
        "        else:\n",
        "            queries = self.test_points_sampled\n",
        "            tree    = self.test_tree\n",
        "            points  = self.test_points\n",
        "        tot_queries = queries.shape[0]\n",
        "\n",
        "        descriptors = np.zeros((tot_queries, 256), dtype=np.float32)\n",
        "        for i in tqdm(range(tot_queries)):\n",
        "            pt = queries[i]\n",
        "\n",
        "            ## find neighborhood of points\n",
        "            _, idx, _ = tree.search_radius_vector_3d(pt, self.radius)\n",
        "            point_set = points[idx]\n",
        "\n",
        "            ## normalize the points\n",
        "            point_set = (point_set - pt)\n",
        "\n",
        "            pc = np.zeros((self.N, 3), dtype=np.float32)\n",
        "            pc[:min(self.N, point_set.shape[0]), :] = point_set[:min(self.N, point_set.shape[0]), :]\n",
        "\n",
        "            # transform\n",
        "            anchor  = torch.from_numpy(pc).unsqueeze(0).float().transpose(1,2).to(device)\n",
        "            descriptors[i, :] = tinypointnet(anchor)[0, :, 0].cpu().detach().numpy()\n",
        "        return descriptors\n",
        "\n",
        "    def __getitem__(self, _):\n",
        "        mesh_idx = np.random.randint(0, len(self.mesh))\n",
        "\n",
        "        pcd_points = self.pcds[mesh_idx]        ## anchor will be drawn from this\n",
        "        pcd_n_points = self.pcds_n[mesh_idx]    ## positive and negative will be drawn from this\n",
        "\n",
        "        # ANCHOR: select a random anchor point\n",
        "        anchor_pt, anchor_neighborhood_idxs = self.sample_anchor_point(pcd_points, self.KDtrees[mesh_idx])\n",
        "\n",
        "        # POSITIVE: find corresponding point in the noisy point cloud\n",
        "        pos_pt, noisy_positive_neighborhood_idxs = self.sample_positive_point(pcd_n_points, self.KDtrees_n[mesh_idx], anchor_pt)\n",
        "\n",
        "        # NEGATIVE: find far point (at least at distance min_dist)\n",
        "        neg_pt, noisy_negative_neighborhood_idxs = self.sample_negative_point(pcd_n_points, self.KDtrees_n[mesh_idx], anchor_pt)\n",
        "        if neg_pt is None: ## it should never fail, but if it fails: restart experiment\n",
        "            quit(\"FAIL: restart experiment\")\n",
        "\n",
        "\n",
        "        # get points\n",
        "        point_set_anchor   = pcd_points[anchor_neighborhood_idxs]\n",
        "        point_set_positive = pcd_n_points[noisy_positive_neighborhood_idxs]\n",
        "        point_set_negative = pcd_n_points[noisy_negative_neighborhood_idxs]\n",
        "\n",
        "        if not self.is_test_set:\n",
        "            # generate a random rotation\n",
        "            rot_mat = self.get_xyz_random_rotation()\n",
        "\n",
        "            # apply the random rotation to point cloud and points\n",
        "            pcd_points_center = self.get_point_cloud_center(pcd_points)\n",
        "            pcd_n_points_center = self.get_point_cloud_center(pcd_n_points)\n",
        "            anchor_pt = self.apply_rotation(anchor_pt, rot_mat, pcd_points_center)\n",
        "            pos_pt    = self.apply_rotation(pos_pt, rot_mat, pcd_n_points_center)\n",
        "            neg_pt    = self.apply_rotation(neg_pt, rot_mat, pcd_n_points_center)\n",
        "            point_set_anchor   = self.apply_rotation_pc(point_set_anchor, rot_mat, pcd_points_center)\n",
        "            point_set_positive = self.apply_rotation_pc(point_set_positive, rot_mat, pcd_n_points_center)\n",
        "            point_set_negative = self.apply_rotation_pc(point_set_negative, rot_mat, pcd_n_points_center)\n",
        "        else:\n",
        "            rot_mat = self.common_rot_mat\n",
        "\n",
        "        # center points around their centroid\n",
        "        point_set_anchor   = (point_set_anchor - anchor_pt)\n",
        "        point_set_positive = (point_set_positive - pos_pt)\n",
        "        point_set_negative = (point_set_negative - neg_pt)\n",
        "\n",
        "        # copy points coordinates to a fixed dimension np.array\n",
        "        point_set_anchor   = self.bufferize_pointcloud(point_set_anchor  , self.N)\n",
        "        point_set_positive = self.bufferize_pointcloud(point_set_positive, self.N)\n",
        "        point_set_negative = self.bufferize_pointcloud(point_set_negative, self.N)\n",
        "\n",
        "        # transform from numpy to torch.Tensor\n",
        "        point_set_anchor    = torch.from_numpy(point_set_anchor)\n",
        "        point_set_positive  = torch.from_numpy(point_set_positive)\n",
        "        point_set_negative  = torch.from_numpy(point_set_negative)\n",
        "\n",
        "        return mesh_idx, point_set_anchor, point_set_positive, point_set_negative, anchor_pt, pos_pt, neg_pt, rot_mat.as_matrix()"
      ]
    },
    {
      "cell_type": "markdown",
      "metadata": {
        "id": "ABoR7ciUCrq_"
      },
      "source": [
        "\n",
        "# Dataset Creation\n",
        "\n",
        "Now we can instantiate our training and test dataset objects."
      ]
    },
    {
      "cell_type": "code",
      "execution_count": 408,
      "metadata": {
        "colab": {
          "base_uri": "https://localhost:8080/"
        },
        "id": "mq_sC59txbQF",
        "outputId": "7be81389-00e3-4159-a728-ad77486ff11a"
      },
      "outputs": [
        {
          "name": "stdout",
          "output_type": "stream",
          "text": [
            "parsing file datasets\\train\\Armadillo.ply\n",
            "parsing file datasets\\train\\bun_zipper.ply\n",
            "parsing file datasets\\train\\dragon_vrip.ply\n",
            "parsing file datasets\\valid\\Armadillo.ply\n",
            "parsing file datasets\\valid\\bun_zipper.ply\n",
            "parsing file datasets\\valid\\dragon_vrip.ply\n",
            "parsing file datasets\\test\\happy_vrip.ply\n"
          ]
        }
      ],
      "source": [
        "train_ds  = PointCloudData(dataset_path_train, samples_per_epoch=500)\n",
        "valid_ds  = PointCloudData(dataset_path_valid, samples_per_epoch=500)\n",
        "test_ds   = PointCloudData(dataset_path_test,  samples_per_epoch=500, is_test_set=True)"
      ]
    },
    {
      "cell_type": "markdown",
      "metadata": {
        "id": "kC5c_b1quNFT"
      },
      "source": [
        "Creating a `Dataset` class may seem unnecessary for the most basic problems. But it really helps when the dataset and the training procedure start to get more complex.\n",
        "\n",
        "One of the most useful benefit of defining a `Dataset` class is the possiblity to use the PyTorch `Dataloader` module.\n",
        "\n",
        "By operating on the dataset directly, we are losing out on a lot of features by using a simple for loop to iterate over the data. In particular, we are missing out on:\n",
        "\n",
        "* Batching the data\n",
        "* Shuffling the data\n",
        "* Load the data in parallel using multiprocessing workers.\n",
        "\n",
        "`torch.utils.data.DataLoader` is an iterator which provides all these features. Parameters used below should be clear."
      ]
    },
    {
      "cell_type": "code",
      "execution_count": 409,
      "metadata": {
        "id": "lX2pNbMhxm0N"
      },
      "outputs": [],
      "source": [
        "# warning: batch_size needs to be at least 2\n",
        "train_loader  = DataLoader( dataset=train_ds,  batch_size=50, shuffle=True  )\n",
        "valid_loader  = DataLoader( dataset=valid_ds,  batch_size=50, shuffle=False )\n",
        "test_loader   = DataLoader( dataset=test_ds,   batch_size=20, shuffle=False )"
      ]
    },
    {
      "cell_type": "markdown",
      "metadata": {
        "id": "7IzNMJKK10u4"
      },
      "source": [
        "# Visualize some data"
      ]
    },
    {
      "cell_type": "code",
      "execution_count": 410,
      "metadata": {
        "colab": {
          "base_uri": "https://localhost:8080/",
          "height": 542
        },
        "id": "yPswsKFl10u4",
        "outputId": "4d56cc57-81b8-46e8-9bf2-89e6edffd763"
      },
      "outputs": [],
      "source": [
        "ds = train_ds\n",
        "\n",
        "for (mesh_idx, _, _, _, anchor, positive, negative, rot_mat) in ds:\n",
        "    idx = mesh_idx\n",
        "    visualize(ds.pcds[idx],\n",
        "              anchor = anchor,\n",
        "              positive = positive,\n",
        "              negative = negative,\n",
        "              radius=ds.radius,\n",
        "              rot_mat=rot_mat)\n",
        "    break\n"
      ]
    },
    {
      "cell_type": "markdown",
      "metadata": {
        "id": "BPtnhEyuy9ks"
      },
      "source": [
        "# Network Definition"
      ]
    },
    {
      "cell_type": "markdown",
      "metadata": {
        "id": "1HjszmGzub9M"
      },
      "source": [
        "## Network Base Module\n"
      ]
    },
    {
      "cell_type": "code",
      "execution_count": 411,
      "metadata": {
        "id": "HpMGFh5_bj5I"
      },
      "outputs": [],
      "source": [
        "# Multi Layer Perceptron\n",
        "class MLP(nn.Module):\n",
        "    def __init__(self, input_size, output_size):\n",
        "        super().__init__()\n",
        "        self.input_size   = input_size\n",
        "        self.output_size  = output_size\n",
        "        self.conv  = nn.Conv1d(self.input_size, self.output_size, 1)\n",
        "        self.bn    = nn.BatchNorm1d(self.output_size)\n",
        "\n",
        "    def forward(self, input):\n",
        "        return F.relu(self.bn(self.conv(input)))\n",
        "\n",
        "# Fully Connected with Batch Normalization\n",
        "class FC_BN(nn.Module):\n",
        "    def __init__(self, input_size, output_size):\n",
        "        super().__init__()\n",
        "        self.input_size   = input_size\n",
        "        self.output_size  = output_size\n",
        "        self.lin  = nn.Linear(self.input_size, self.output_size)\n",
        "        self.bn    = nn.BatchNorm1d(self.output_size)\n",
        "\n",
        "    def forward(self, input):\n",
        "        return F.relu(self.bn(self.lin(input)))\n",
        "\n",
        "class TNet(nn.Module):\n",
        "    def __init__(self, k=3):\n",
        "        super().__init__()\n",
        "        self.k=k\n",
        "\n",
        "        self.mlp1 = MLP(self.k, 64)\n",
        "        self.mlp2 = MLP(64, 128)\n",
        "        self.mlp3 = MLP(128, 1024)\n",
        "\n",
        "        self.fc_bn1 = FC_BN(1024, 512)\n",
        "        self.fc_bn2 = FC_BN(512,256)\n",
        "\n",
        "        self.fc3 = nn.Linear(256,k*k)\n",
        "\n",
        "\n",
        "    def forward(self, input):\n",
        "        # input.shape == (batch_size,n,3)\n",
        "\n",
        "        bs = input.size(0)\n",
        "        xb = self.mlp1(input)\n",
        "        xb = self.mlp2(xb)\n",
        "        xb = self.mlp3(xb)\n",
        "\n",
        "        pool = nn.MaxPool1d(xb.size(-1))(xb)\n",
        "        flat = nn.Flatten(1)(pool)\n",
        "\n",
        "        xb = self.fc_bn1(flat)\n",
        "        xb = self.fc_bn2(xb)\n",
        "\n",
        "        #initialize as identity\n",
        "        init = torch.eye(self.k, requires_grad=True).repeat(bs,1,1)\n",
        "        if xb.is_cuda:\n",
        "            init=init.cuda()\n",
        "        matrix = self.fc3(xb).view(-1,self.k,self.k) + init\n",
        "        return matrix"
      ]
    },
    {
      "cell_type": "code",
      "execution_count": null,
      "metadata": {
        "id": "mEQ4Zx5WoLDx"
      },
      "outputs": [],
      "source": [
        "class TinyPointNet(nn.Module):\n",
        "    def __init__(self):\n",
        "        super().__init__()\n",
        "        self.input_transform   = TNet(k=3) ## if you use the shot rotation matrix, this is not going to be used\n",
        "        self.feature_transform = TNet(k=64)\n",
        "\n",
        "        #Layers of First MLP\n",
        "        self.mlp_A_1 = MLP(3, 64) #Input size 3, output size 64\n",
        "        self.mlp_A_2 = MLP(64,64) #Input size 64, output size 64\n",
        "\n",
        "        #Layers of Second MLP\n",
        "        self.mlp_B_1 = MLP(64, 64) #Input size 64, output size 64\n",
        "        self.mlp_B_2 = MLP(64,128) #Input size 64, output size 128\n",
        "        self.mlp_B_3 = MLP(128,256) #Input size 128, output size 256\n",
        "\n",
        "    def forward(self, input):\n",
        "        #input.size = [50, 3, 750]\n",
        "        #print(input.size()) #PROVA\n",
        "        n_pts = input.size()[2] #750\n",
        "        matrix3x3 = self.input_transform(input)\n",
        "        #matrix3x3 = self.shot_canonical_rotation(input, 3)\n",
        "        input_transform_output = torch.bmm(torch.transpose(input,1,2), matrix3x3).transpose(1,2) #Output of size [50, 3, 750]\n",
        "\n",
        "\n",
        "        #Apply first MLP\n",
        "        x = self.mlp_A_1(input_transform_output) # 3 as input, 64 as output  -> [50, 64, 750]\n",
        "        x = self.mlp_A_2(x) #Apply the second layer -> from 64 to 64 [50, 64, 750]\n",
        "\n",
        "        matrix64x64 = self.feature_transform(x) #Obtain 64x64 matrix applying TNet to output of first MLP\n",
        "        x = torch.bmm(torch.transpose(x, 1, 2), matrix64x64).transpose(1,2) #Multiply the 64x64 with the output of MLP -> output size: [50, 64, 750]\n",
        "\n",
        "        #Apply second MLP\n",
        "        x = self.mlp_B_1(x) # First layer, output size: [50, 64, 750]\n",
        "        x = self.mlp_B_2(x) # Second layer, output size: [50, 128, 750]\n",
        "        x = self.mlp_B_3(x) # Third layer, output size: [50, 256, 750]\n",
        "\n",
        "        #Max Pooling stage\n",
        "        x = nn.MaxPool1d(x.size(-1))(x) #In the end we have a vector of size [50, 256, 1] (which is the descriptor)\n",
        "\n",
        "        return x\n",
        "\n",
        "    \n",
        "    def shot_canonical_rotation(self, input, k):\n",
        "        # input.shape == (batch_size, k, n)\n",
        "        batch_size, _, n = input.size() \n",
        "        rotation_matrices = []\n",
        "\n",
        "        for i in range(batch_size):\n",
        "            features_batch = input[i]\n",
        "            centroid = torch.mean(features_batch, dim=1, keepdim=True)\n",
        "            centered_features = features_batch - centroid\n",
        "\n",
        "            if torch.any(torch.isnan(centered_features)) or torch.any(torch.isinf(centered_features)):\n",
        "                centered_features[torch.isnan(centered_features) | torch.isinf(centered_features)] = 1e-6\n",
        "\n",
        "            distances = torch.norm(centered_features, dim=0)\n",
        "\n",
        "            weights = 1.0 - distances\n",
        "            weights[weights < 0] = 0\n",
        "\n",
        "            weights_sum = torch.sum(weights)\n",
        "            if weights_sum > 0:\n",
        "                weights = weights / weights_sum\n",
        "            else:\n",
        "                weights = torch.ones_like(weights) / n\n",
        "\n",
        "            weighted_cov_matrix = torch.zeros((centered_features.size(0), centered_features.size(0)), device=input.device)\n",
        "\n",
        "          \n",
        "            v = centered_features  #Get the centered features\n",
        "            weighted_cov_matrix = torch.einsum('n,in,jn->ij', weights, v, v) #Calculate the Covariance Matrix\n",
        "\n",
        "\n",
        "            weighted_cov_matrix += torch.eye(weighted_cov_matrix.size(-1), device=input.device) * 1e-6\n",
        "\n",
        "\n",
        "            eigvals, eigvecs = torch.linalg.eigh(weighted_cov_matrix) #Get eigenvalues and eigenvectors of the covariance matrix\n",
        "            idx = torch.argsort(eigvals, descending=True) #Get index of the sorting in descending order\n",
        "            V = eigvecs[:, idx] #Sort and save eigenvectors\n",
        "\n",
        "            rotation_matrix = V[:, :k]\n",
        "\n",
        "            for j in range(k):\n",
        "                signs = torch.sign(torch.sum(centered_features * rotation_matrix[:, j].unsqueeze(1), dim=0))\n",
        "                if torch.sum(signs >= 0) < torch.sum(signs < 0):\n",
        "                    rotation_matrix[:, j] = -rotation_matrix[:, j]\n",
        "\n",
        "            rotation_matrices.append(rotation_matrix)\n",
        "\n",
        "        return torch.stack(rotation_matrices, dim=0)\n"
      ]
    },
    {
      "cell_type": "markdown",
      "metadata": {},
      "source": [
        "## Visualize the Training trend"
      ]
    },
    {
      "cell_type": "markdown",
      "metadata": {
        "id": "P38WBTtMyFeC"
      },
      "source": [
        "# Training loop"
      ]
    },
    {
      "cell_type": "code",
      "execution_count": 444,
      "metadata": {
        "colab": {
          "base_uri": "https://localhost:8080/"
        },
        "id": "vIlTUpNPyBdK",
        "outputId": "fcfcce46-6a46-4758-af8d-80384e3f5aeb"
      },
      "outputs": [
        {
          "name": "stdout",
          "output_type": "stream",
          "text": [
            "cuda:0\n"
          ]
        }
      ],
      "source": [
        "device = torch.device(\"cuda:0\" if torch.cuda.is_available() else \"cpu\")\n",
        "print(device)"
      ]
    },
    {
      "cell_type": "code",
      "execution_count": 445,
      "metadata": {
        "id": "uWSroT5TyDnt"
      },
      "outputs": [],
      "source": [
        "tinypointnet = TinyPointNet()\n",
        "tinypointnet.to(device);"
      ]
    },
    {
      "cell_type": "code",
      "execution_count": 446,
      "metadata": {
        "id": "wqwUjESLyKv3"
      },
      "outputs": [],
      "source": [
        "optimizer = torch.optim.Adam(tinypointnet.parameters(), lr=0.0005)\n"
      ]
    },
    {
      "cell_type": "code",
      "execution_count": null,
      "metadata": {
        "id": "CAf8UGcPazjx"
      },
      "outputs": [],
      "source": [
        "def soft_triplet_loss(anchor, positive, negative, alpha=10.0):\n",
        "\n",
        "    d_pos = F.pairwise_distance(anchor, positive)\n",
        "    d_neg = F.pairwise_distance(anchor, negative)\n",
        "    loss = F.softplus(alpha * (d_pos - d_neg)) #Used softplus instead of exp in order to mitigate numerical issues\n",
        "\n",
        "    return loss.mean()\n",
        "\n",
        "\n",
        "#Function created to confront soft and standard triplet loss\n",
        "def triplet_loss(anchor, positive, negative, margin=0.2):\n",
        "    d_pos = F.pairwise_distance(anchor, positive)\n",
        "    d_neg = F.pairwise_distance(anchor, negative)\n",
        "    loss = F.relu(d_pos - d_neg + margin)\n",
        "    return loss.mean()\n",
        "\n",
        "\n",
        "def train(model, train_loader, valid_loader=None,  epochs=45, save=True):\n",
        "    best_valid_loss = 1e10\n",
        "\n",
        "    tinypointnetloss = triplet_loss\n",
        "\n",
        "    # these lists keep track of the losses across epochs\n",
        "    train_losses, valid_losses = [], []\n",
        "\n",
        "    for epoch in range(epochs):\n",
        "        # local list of losses\n",
        "        train_loss, valid_loss = [], []\n",
        "\n",
        "        # train\n",
        "        tinypointnet.train()\n",
        "\n",
        "        for (_, anchor, positive, negative, _, _, _, _) in tqdm(train_loader):\n",
        "\n",
        "            # retrieve anchors, positives and negatives batch\n",
        "            anchor   =   anchor.to(device).float().transpose(1,2)\n",
        "            positive = positive.to(device).float().transpose(1,2)\n",
        "            negative = negative.to(device).float().transpose(1,2)\n",
        "\n",
        "            optimizer.zero_grad()\n",
        "\n",
        "            # let PointNetTiny model compute the descriptors\n",
        "            anchor_desc   = tinypointnet(anchor)\n",
        "            positive_desc = tinypointnet(positive)\n",
        "            negative_desc = tinypointnet(negative)\n",
        "\n",
        "            # compute the loss associated to these descriptors\n",
        "            loss = tinypointnetloss(anchor_desc, positive_desc, negative_desc)\n",
        "\n",
        "\n",
        "            # Backpropagate the gradient\n",
        "            loss.backward()\n",
        "            optimizer.step()\n",
        "\n",
        "            # Keep track of the statistics\n",
        "            train_loss.append(loss.item())\n",
        "            #pbar.set_postfix(loss=curr_loss)\n",
        "\n",
        "        train_loss = np.asarray(train_loss).mean()\n",
        "        print(f'epoch {epoch} - train loss:', train_loss)\n",
        "        train_losses.append(train_loss)\n",
        "\n",
        "        # validation\n",
        "        tinypointnet.eval()\n",
        "        pbar = tqdm(valid_loader, leave=False)\n",
        "\n",
        "        with torch.no_grad():\n",
        "            for (_, anchor, positive, negative, _, _, _, _) in pbar:\n",
        "                pbar.set_description(f\"valid - epoch {epoch}\")\n",
        "\n",
        "                anchor   =   anchor.to(device).float().transpose(1,2)\n",
        "                positive = positive.to(device).float().transpose(1,2)\n",
        "                negative = negative.to(device).float().transpose(1,2)\n",
        "\n",
        "                anchor_desc   = tinypointnet(anchor)\n",
        "                positive_desc = tinypointnet(positive)\n",
        "                negative_desc = tinypointnet(negative)\n",
        "                loss = tinypointnetloss(anchor_desc, positive_desc, negative_desc)\n",
        "                curr_loss = loss.item()\n",
        "\n",
        "                valid_loss.append(curr_loss)\n",
        "\n",
        "                pbar.set_postfix(loss=curr_loss)\n",
        "\n",
        "        valid_loss = np.asarray(valid_loss).mean()\n",
        "        print(f'epoch {epoch} - valid loss:', valid_loss)\n",
        "        valid_losses.append(valid_loss)\n",
        "\n",
        "        # save the model\n",
        "        if save and valid_loss < best_valid_loss:\n",
        "            best_valid_loss = valid_loss\n",
        "            if running_on_colab:\n",
        "                path = os.path.join(drive_path, \"MyDrive\", \"tinypointnetmodel.yml\")\n",
        "            else:\n",
        "                path = os.path.join(\"tinypointnetmodel.yml\")\n",
        "            print(\"best_valid_loss:\", best_valid_loss, \"saving model at\", path)\n",
        "            torch.save(tinypointnet.state_dict(), path)\n",
        "    return train_losses, valid_losses\n"
      ]
    },
    {
      "cell_type": "code",
      "execution_count": 448,
      "metadata": {
        "colab": {
          "base_uri": "https://localhost:8080/"
        },
        "id": "pCioSo6kyU5M",
        "outputId": "19c4e4b9-683c-4aab-bdc3-c579c10fd26d"
      },
      "outputs": [
        {
          "name": "stderr",
          "output_type": "stream",
          "text": [
            "100%|██████████| 10/10 [00:08<00:00,  1.14it/s]\n"
          ]
        },
        {
          "name": "stdout",
          "output_type": "stream",
          "text": [
            "epoch 0 - train loss: 0.1462111622095108\n"
          ]
        },
        {
          "name": "stderr",
          "output_type": "stream",
          "text": [
            "                                                                            \r"
          ]
        },
        {
          "name": "stdout",
          "output_type": "stream",
          "text": [
            "epoch 0 - valid loss: 0.1972211331129074\n",
            "best_valid_loss: 0.1972211331129074 saving model at tinypointnetmodel.yml\n"
          ]
        },
        {
          "name": "stderr",
          "output_type": "stream",
          "text": [
            "100%|██████████| 10/10 [00:08<00:00,  1.19it/s]\n"
          ]
        },
        {
          "name": "stdout",
          "output_type": "stream",
          "text": [
            "epoch 1 - train loss: 0.07628924809396267\n"
          ]
        },
        {
          "name": "stderr",
          "output_type": "stream",
          "text": [
            "                                                                            \r"
          ]
        },
        {
          "name": "stdout",
          "output_type": "stream",
          "text": [
            "epoch 1 - valid loss: 0.16945936232805253\n",
            "best_valid_loss: 0.16945936232805253 saving model at tinypointnetmodel.yml\n"
          ]
        },
        {
          "name": "stderr",
          "output_type": "stream",
          "text": [
            "100%|██████████| 10/10 [00:08<00:00,  1.18it/s]\n"
          ]
        },
        {
          "name": "stdout",
          "output_type": "stream",
          "text": [
            "epoch 2 - train loss: 0.08174317143857479\n"
          ]
        },
        {
          "name": "stderr",
          "output_type": "stream",
          "text": [
            "                                                                            \r"
          ]
        },
        {
          "name": "stdout",
          "output_type": "stream",
          "text": [
            "epoch 2 - valid loss: 0.11313856542110443\n",
            "best_valid_loss: 0.11313856542110443 saving model at tinypointnetmodel.yml\n"
          ]
        },
        {
          "name": "stderr",
          "output_type": "stream",
          "text": [
            "100%|██████████| 10/10 [00:08<00:00,  1.17it/s]\n"
          ]
        },
        {
          "name": "stdout",
          "output_type": "stream",
          "text": [
            "epoch 3 - train loss: 0.06338137648999691\n"
          ]
        },
        {
          "name": "stderr",
          "output_type": "stream",
          "text": [
            "                                                                             \r"
          ]
        },
        {
          "name": "stdout",
          "output_type": "stream",
          "text": [
            "epoch 3 - valid loss: 0.06368672177195549\n",
            "best_valid_loss: 0.06368672177195549 saving model at tinypointnetmodel.yml\n"
          ]
        },
        {
          "name": "stderr",
          "output_type": "stream",
          "text": [
            "100%|██████████| 10/10 [00:08<00:00,  1.16it/s]\n"
          ]
        },
        {
          "name": "stdout",
          "output_type": "stream",
          "text": [
            "epoch 4 - train loss: 0.055961912497878075\n"
          ]
        },
        {
          "name": "stderr",
          "output_type": "stream",
          "text": [
            "                                                                             \r"
          ]
        },
        {
          "name": "stdout",
          "output_type": "stream",
          "text": [
            "epoch 4 - valid loss: 0.05131414420902729\n",
            "best_valid_loss: 0.05131414420902729 saving model at tinypointnetmodel.yml\n"
          ]
        },
        {
          "name": "stderr",
          "output_type": "stream",
          "text": [
            "100%|██████████| 10/10 [00:08<00:00,  1.17it/s]\n"
          ]
        },
        {
          "name": "stdout",
          "output_type": "stream",
          "text": [
            "epoch 5 - train loss: 0.04806723892688751\n"
          ]
        },
        {
          "name": "stderr",
          "output_type": "stream",
          "text": [
            "                                                                             \r"
          ]
        },
        {
          "name": "stdout",
          "output_type": "stream",
          "text": [
            "epoch 5 - valid loss: 0.04264948628842831\n",
            "best_valid_loss: 0.04264948628842831 saving model at tinypointnetmodel.yml\n"
          ]
        },
        {
          "name": "stderr",
          "output_type": "stream",
          "text": [
            "100%|██████████| 10/10 [00:08<00:00,  1.19it/s]\n"
          ]
        },
        {
          "name": "stdout",
          "output_type": "stream",
          "text": [
            "epoch 6 - train loss: 0.04118626043200493\n"
          ]
        },
        {
          "name": "stderr",
          "output_type": "stream",
          "text": [
            "                                                                             \r"
          ]
        },
        {
          "name": "stdout",
          "output_type": "stream",
          "text": [
            "epoch 6 - valid loss: 0.043552757054567334\n"
          ]
        },
        {
          "name": "stderr",
          "output_type": "stream",
          "text": [
            "100%|██████████| 10/10 [00:08<00:00,  1.19it/s]\n"
          ]
        },
        {
          "name": "stdout",
          "output_type": "stream",
          "text": [
            "epoch 7 - train loss: 0.04080293606966734\n"
          ]
        },
        {
          "name": "stderr",
          "output_type": "stream",
          "text": [
            "                                                                             \r"
          ]
        },
        {
          "name": "stdout",
          "output_type": "stream",
          "text": [
            "epoch 7 - valid loss: 0.04317463953047991\n"
          ]
        },
        {
          "name": "stderr",
          "output_type": "stream",
          "text": [
            "100%|██████████| 10/10 [00:08<00:00,  1.18it/s]\n"
          ]
        },
        {
          "name": "stdout",
          "output_type": "stream",
          "text": [
            "epoch 8 - train loss: 0.038720283471047875\n"
          ]
        },
        {
          "name": "stderr",
          "output_type": "stream",
          "text": [
            "                                                                            \r"
          ]
        },
        {
          "name": "stdout",
          "output_type": "stream",
          "text": [
            "epoch 8 - valid loss: 0.04039095230400562\n",
            "best_valid_loss: 0.04039095230400562 saving model at tinypointnetmodel.yml\n"
          ]
        },
        {
          "name": "stderr",
          "output_type": "stream",
          "text": [
            "100%|██████████| 10/10 [00:08<00:00,  1.18it/s]\n"
          ]
        },
        {
          "name": "stdout",
          "output_type": "stream",
          "text": [
            "epoch 9 - train loss: 0.03470576535910368\n"
          ]
        },
        {
          "name": "stderr",
          "output_type": "stream",
          "text": [
            "                                                                             \r"
          ]
        },
        {
          "name": "stdout",
          "output_type": "stream",
          "text": [
            "epoch 9 - valid loss: 0.041612234339118\n"
          ]
        },
        {
          "name": "stderr",
          "output_type": "stream",
          "text": [
            "100%|██████████| 10/10 [00:08<00:00,  1.19it/s]\n"
          ]
        },
        {
          "name": "stdout",
          "output_type": "stream",
          "text": [
            "epoch 10 - train loss: 0.045617389306426046\n"
          ]
        },
        {
          "name": "stderr",
          "output_type": "stream",
          "text": [
            "                                                                              \r"
          ]
        },
        {
          "name": "stdout",
          "output_type": "stream",
          "text": [
            "epoch 10 - valid loss: 0.051927723363041876\n"
          ]
        },
        {
          "name": "stderr",
          "output_type": "stream",
          "text": [
            "100%|██████████| 10/10 [00:08<00:00,  1.18it/s]\n"
          ]
        },
        {
          "name": "stdout",
          "output_type": "stream",
          "text": [
            "epoch 11 - train loss: 0.03891246598213911\n"
          ]
        },
        {
          "name": "stderr",
          "output_type": "stream",
          "text": [
            "                                                                              \r"
          ]
        },
        {
          "name": "stdout",
          "output_type": "stream",
          "text": [
            "epoch 11 - valid loss: 0.04181317966431379\n"
          ]
        },
        {
          "name": "stderr",
          "output_type": "stream",
          "text": [
            "100%|██████████| 10/10 [00:08<00:00,  1.18it/s]\n"
          ]
        },
        {
          "name": "stdout",
          "output_type": "stream",
          "text": [
            "epoch 12 - train loss: 0.041148601844906804\n"
          ]
        },
        {
          "name": "stderr",
          "output_type": "stream",
          "text": [
            "                                                                              \r"
          ]
        },
        {
          "name": "stdout",
          "output_type": "stream",
          "text": [
            "epoch 12 - valid loss: 0.034384478069841865\n",
            "best_valid_loss: 0.034384478069841865 saving model at tinypointnetmodel.yml\n"
          ]
        },
        {
          "name": "stderr",
          "output_type": "stream",
          "text": [
            "100%|██████████| 10/10 [00:08<00:00,  1.14it/s]\n"
          ]
        },
        {
          "name": "stdout",
          "output_type": "stream",
          "text": [
            "epoch 13 - train loss: 0.03865549862384796\n"
          ]
        },
        {
          "name": "stderr",
          "output_type": "stream",
          "text": [
            "                                                                              \r"
          ]
        },
        {
          "name": "stdout",
          "output_type": "stream",
          "text": [
            "epoch 13 - valid loss: 0.039001892879605295\n"
          ]
        },
        {
          "name": "stderr",
          "output_type": "stream",
          "text": [
            "100%|██████████| 10/10 [00:08<00:00,  1.15it/s]\n"
          ]
        },
        {
          "name": "stdout",
          "output_type": "stream",
          "text": [
            "epoch 14 - train loss: 0.038394460640847686\n"
          ]
        },
        {
          "name": "stderr",
          "output_type": "stream",
          "text": [
            "                                                                              \r"
          ]
        },
        {
          "name": "stdout",
          "output_type": "stream",
          "text": [
            "epoch 14 - valid loss: 0.03663234356790781\n"
          ]
        },
        {
          "name": "stderr",
          "output_type": "stream",
          "text": [
            "100%|██████████| 10/10 [00:08<00:00,  1.19it/s]\n"
          ]
        },
        {
          "name": "stdout",
          "output_type": "stream",
          "text": [
            "epoch 15 - train loss: 0.033594397269189356\n"
          ]
        },
        {
          "name": "stderr",
          "output_type": "stream",
          "text": [
            "                                                                              \r"
          ]
        },
        {
          "name": "stdout",
          "output_type": "stream",
          "text": [
            "epoch 15 - valid loss: 0.03962493222206831\n"
          ]
        },
        {
          "name": "stderr",
          "output_type": "stream",
          "text": [
            "100%|██████████| 10/10 [00:08<00:00,  1.16it/s]\n"
          ]
        },
        {
          "name": "stdout",
          "output_type": "stream",
          "text": [
            "epoch 16 - train loss: 0.03596176281571388\n"
          ]
        },
        {
          "name": "stderr",
          "output_type": "stream",
          "text": [
            "                                                                              \r"
          ]
        },
        {
          "name": "stdout",
          "output_type": "stream",
          "text": [
            "epoch 16 - valid loss: 0.054106094501912595\n"
          ]
        },
        {
          "name": "stderr",
          "output_type": "stream",
          "text": [
            "100%|██████████| 10/10 [00:08<00:00,  1.18it/s]\n"
          ]
        },
        {
          "name": "stdout",
          "output_type": "stream",
          "text": [
            "epoch 17 - train loss: 0.04603737760335207\n"
          ]
        },
        {
          "name": "stderr",
          "output_type": "stream",
          "text": [
            "                                                                              \r"
          ]
        },
        {
          "name": "stdout",
          "output_type": "stream",
          "text": [
            "epoch 17 - valid loss: 0.034024260006845\n",
            "best_valid_loss: 0.034024260006845 saving model at tinypointnetmodel.yml\n"
          ]
        },
        {
          "name": "stderr",
          "output_type": "stream",
          "text": [
            "100%|██████████| 10/10 [00:08<00:00,  1.12it/s]\n"
          ]
        },
        {
          "name": "stdout",
          "output_type": "stream",
          "text": [
            "epoch 18 - train loss: 0.04360822141170502\n"
          ]
        },
        {
          "name": "stderr",
          "output_type": "stream",
          "text": [
            "                                                                              \r"
          ]
        },
        {
          "name": "stdout",
          "output_type": "stream",
          "text": [
            "epoch 18 - valid loss: 0.0348459092900157\n"
          ]
        },
        {
          "name": "stderr",
          "output_type": "stream",
          "text": [
            "100%|██████████| 10/10 [00:08<00:00,  1.19it/s]\n"
          ]
        },
        {
          "name": "stdout",
          "output_type": "stream",
          "text": [
            "epoch 19 - train loss: 0.03161833100020885\n"
          ]
        },
        {
          "name": "stderr",
          "output_type": "stream",
          "text": [
            "                                                                              \r"
          ]
        },
        {
          "name": "stdout",
          "output_type": "stream",
          "text": [
            "epoch 19 - valid loss: 0.0344302293844521\n"
          ]
        },
        {
          "name": "stderr",
          "output_type": "stream",
          "text": [
            "100%|██████████| 10/10 [00:08<00:00,  1.17it/s]\n"
          ]
        },
        {
          "name": "stdout",
          "output_type": "stream",
          "text": [
            "epoch 20 - train loss: 0.029761139675974844\n"
          ]
        },
        {
          "name": "stderr",
          "output_type": "stream",
          "text": [
            "                                                                              \r"
          ]
        },
        {
          "name": "stdout",
          "output_type": "stream",
          "text": [
            "epoch 20 - valid loss: 0.034844227507710455\n"
          ]
        },
        {
          "name": "stderr",
          "output_type": "stream",
          "text": [
            "100%|██████████| 10/10 [00:08<00:00,  1.17it/s]\n"
          ]
        },
        {
          "name": "stdout",
          "output_type": "stream",
          "text": [
            "epoch 21 - train loss: 0.032064218260347846\n"
          ]
        },
        {
          "name": "stderr",
          "output_type": "stream",
          "text": [
            "                                                                              \r"
          ]
        },
        {
          "name": "stdout",
          "output_type": "stream",
          "text": [
            "epoch 21 - valid loss: 0.03602821435779333\n"
          ]
        },
        {
          "name": "stderr",
          "output_type": "stream",
          "text": [
            "100%|██████████| 10/10 [00:08<00:00,  1.12it/s]\n"
          ]
        },
        {
          "name": "stdout",
          "output_type": "stream",
          "text": [
            "epoch 22 - train loss: 0.04229253381490707\n"
          ]
        },
        {
          "name": "stderr",
          "output_type": "stream",
          "text": [
            "                                                                              \r"
          ]
        },
        {
          "name": "stdout",
          "output_type": "stream",
          "text": [
            "epoch 22 - valid loss: 0.03443369530141353\n"
          ]
        },
        {
          "name": "stderr",
          "output_type": "stream",
          "text": [
            "100%|██████████| 10/10 [00:08<00:00,  1.18it/s]\n"
          ]
        },
        {
          "name": "stdout",
          "output_type": "stream",
          "text": [
            "epoch 23 - train loss: 0.032816763035953045\n"
          ]
        },
        {
          "name": "stderr",
          "output_type": "stream",
          "text": [
            "                                                                              \r"
          ]
        },
        {
          "name": "stdout",
          "output_type": "stream",
          "text": [
            "epoch 23 - valid loss: 0.035093572735786435\n"
          ]
        },
        {
          "name": "stderr",
          "output_type": "stream",
          "text": [
            "100%|██████████| 10/10 [00:08<00:00,  1.18it/s]\n"
          ]
        },
        {
          "name": "stdout",
          "output_type": "stream",
          "text": [
            "epoch 24 - train loss: 0.0303609611466527\n"
          ]
        },
        {
          "name": "stderr",
          "output_type": "stream",
          "text": [
            "                                                                              \r"
          ]
        },
        {
          "name": "stdout",
          "output_type": "stream",
          "text": [
            "epoch 24 - valid loss: 0.03288578316569328\n",
            "best_valid_loss: 0.03288578316569328 saving model at tinypointnetmodel.yml\n"
          ]
        },
        {
          "name": "stderr",
          "output_type": "stream",
          "text": [
            "100%|██████████| 10/10 [00:08<00:00,  1.15it/s]\n"
          ]
        },
        {
          "name": "stdout",
          "output_type": "stream",
          "text": [
            "epoch 25 - train loss: 0.02858935482800007\n"
          ]
        },
        {
          "name": "stderr",
          "output_type": "stream",
          "text": [
            "                                                                             \r"
          ]
        },
        {
          "name": "stdout",
          "output_type": "stream",
          "text": [
            "epoch 25 - valid loss: 0.02770333467051387\n",
            "best_valid_loss: 0.02770333467051387 saving model at tinypointnetmodel.yml\n"
          ]
        },
        {
          "name": "stderr",
          "output_type": "stream",
          "text": [
            "100%|██████████| 10/10 [00:08<00:00,  1.13it/s]\n"
          ]
        },
        {
          "name": "stdout",
          "output_type": "stream",
          "text": [
            "epoch 26 - train loss: 0.03137803040444851\n"
          ]
        },
        {
          "name": "stderr",
          "output_type": "stream",
          "text": [
            "                                                                              \r"
          ]
        },
        {
          "name": "stdout",
          "output_type": "stream",
          "text": [
            "epoch 26 - valid loss: 0.03721772413700819\n"
          ]
        },
        {
          "name": "stderr",
          "output_type": "stream",
          "text": [
            "100%|██████████| 10/10 [00:08<00:00,  1.16it/s]\n"
          ]
        },
        {
          "name": "stdout",
          "output_type": "stream",
          "text": [
            "epoch 27 - train loss: 0.03670536689460278\n"
          ]
        },
        {
          "name": "stderr",
          "output_type": "stream",
          "text": [
            "                                                                              \r"
          ]
        },
        {
          "name": "stdout",
          "output_type": "stream",
          "text": [
            "epoch 27 - valid loss: 0.03357244748622179\n"
          ]
        },
        {
          "name": "stderr",
          "output_type": "stream",
          "text": [
            "100%|██████████| 10/10 [00:08<00:00,  1.16it/s]\n"
          ]
        },
        {
          "name": "stdout",
          "output_type": "stream",
          "text": [
            "epoch 28 - train loss: 0.03063966576009989\n"
          ]
        },
        {
          "name": "stderr",
          "output_type": "stream",
          "text": [
            "                                                                             \r"
          ]
        },
        {
          "name": "stdout",
          "output_type": "stream",
          "text": [
            "epoch 28 - valid loss: 0.03052989486604929\n"
          ]
        },
        {
          "name": "stderr",
          "output_type": "stream",
          "text": [
            "100%|██████████| 10/10 [00:08<00:00,  1.19it/s]\n"
          ]
        },
        {
          "name": "stdout",
          "output_type": "stream",
          "text": [
            "epoch 29 - train loss: 0.033269422687590124\n"
          ]
        },
        {
          "name": "stderr",
          "output_type": "stream",
          "text": [
            "                                                                              \r"
          ]
        },
        {
          "name": "stdout",
          "output_type": "stream",
          "text": [
            "epoch 29 - valid loss: 0.031482355669140816\n"
          ]
        },
        {
          "name": "stderr",
          "output_type": "stream",
          "text": [
            "100%|██████████| 10/10 [00:08<00:00,  1.18it/s]\n"
          ]
        },
        {
          "name": "stdout",
          "output_type": "stream",
          "text": [
            "epoch 30 - train loss: 0.03853810783475638\n"
          ]
        },
        {
          "name": "stderr",
          "output_type": "stream",
          "text": [
            "                                                                             \r"
          ]
        },
        {
          "name": "stdout",
          "output_type": "stream",
          "text": [
            "epoch 30 - valid loss: 0.03634121511131525\n"
          ]
        },
        {
          "name": "stderr",
          "output_type": "stream",
          "text": [
            "100%|██████████| 10/10 [00:08<00:00,  1.18it/s]\n"
          ]
        },
        {
          "name": "stdout",
          "output_type": "stream",
          "text": [
            "epoch 31 - train loss: 0.038370067812502386\n"
          ]
        },
        {
          "name": "stderr",
          "output_type": "stream",
          "text": [
            "                                                                             \r"
          ]
        },
        {
          "name": "stdout",
          "output_type": "stream",
          "text": [
            "epoch 31 - valid loss: 0.03079593200236559\n"
          ]
        },
        {
          "name": "stderr",
          "output_type": "stream",
          "text": [
            "100%|██████████| 10/10 [00:08<00:00,  1.18it/s]\n"
          ]
        },
        {
          "name": "stdout",
          "output_type": "stream",
          "text": [
            "epoch 32 - train loss: 0.03175950031727552\n"
          ]
        },
        {
          "name": "stderr",
          "output_type": "stream",
          "text": [
            "                                                                              \r"
          ]
        },
        {
          "name": "stdout",
          "output_type": "stream",
          "text": [
            "epoch 32 - valid loss: 0.03566068075597286\n"
          ]
        },
        {
          "name": "stderr",
          "output_type": "stream",
          "text": [
            "100%|██████████| 10/10 [00:08<00:00,  1.18it/s]\n"
          ]
        },
        {
          "name": "stdout",
          "output_type": "stream",
          "text": [
            "epoch 33 - train loss: 0.04059548880904913\n"
          ]
        },
        {
          "name": "stderr",
          "output_type": "stream",
          "text": [
            "                                                                              \r"
          ]
        },
        {
          "name": "stdout",
          "output_type": "stream",
          "text": [
            "epoch 33 - valid loss: 0.03524034284055233\n"
          ]
        },
        {
          "name": "stderr",
          "output_type": "stream",
          "text": [
            "100%|██████████| 10/10 [00:08<00:00,  1.18it/s]\n"
          ]
        },
        {
          "name": "stdout",
          "output_type": "stream",
          "text": [
            "epoch 34 - train loss: 0.02914684936404228\n"
          ]
        },
        {
          "name": "stderr",
          "output_type": "stream",
          "text": [
            "                                                                             \r"
          ]
        },
        {
          "name": "stdout",
          "output_type": "stream",
          "text": [
            "epoch 34 - valid loss: 0.03286454789340496\n"
          ]
        },
        {
          "name": "stderr",
          "output_type": "stream",
          "text": [
            "100%|██████████| 10/10 [00:08<00:00,  1.18it/s]\n"
          ]
        },
        {
          "name": "stdout",
          "output_type": "stream",
          "text": [
            "epoch 35 - train loss: 0.030393134988844394\n"
          ]
        },
        {
          "name": "stderr",
          "output_type": "stream",
          "text": [
            "                                                                              \r"
          ]
        },
        {
          "name": "stdout",
          "output_type": "stream",
          "text": [
            "epoch 35 - valid loss: 0.03315519681200385\n"
          ]
        },
        {
          "name": "stderr",
          "output_type": "stream",
          "text": [
            "100%|██████████| 10/10 [00:08<00:00,  1.18it/s]\n"
          ]
        },
        {
          "name": "stdout",
          "output_type": "stream",
          "text": [
            "epoch 36 - train loss: 0.0201140278019011\n"
          ]
        },
        {
          "name": "stderr",
          "output_type": "stream",
          "text": [
            "                                                                              \r"
          ]
        },
        {
          "name": "stdout",
          "output_type": "stream",
          "text": [
            "epoch 36 - valid loss: 0.03274307129904628\n"
          ]
        },
        {
          "name": "stderr",
          "output_type": "stream",
          "text": [
            "100%|██████████| 10/10 [00:08<00:00,  1.18it/s]\n"
          ]
        },
        {
          "name": "stdout",
          "output_type": "stream",
          "text": [
            "epoch 37 - train loss: 0.029754087142646313\n"
          ]
        },
        {
          "name": "stderr",
          "output_type": "stream",
          "text": [
            "                                                                              \r"
          ]
        },
        {
          "name": "stdout",
          "output_type": "stream",
          "text": [
            "epoch 37 - valid loss: 0.025131912110373376\n",
            "best_valid_loss: 0.025131912110373376 saving model at tinypointnetmodel.yml\n"
          ]
        },
        {
          "name": "stderr",
          "output_type": "stream",
          "text": [
            "100%|██████████| 10/10 [00:08<00:00,  1.18it/s]\n"
          ]
        },
        {
          "name": "stdout",
          "output_type": "stream",
          "text": [
            "epoch 38 - train loss: 0.024302237760275604\n"
          ]
        },
        {
          "name": "stderr",
          "output_type": "stream",
          "text": [
            "                                                                              \r"
          ]
        },
        {
          "name": "stdout",
          "output_type": "stream",
          "text": [
            "epoch 38 - valid loss: 0.02644062079489231\n"
          ]
        },
        {
          "name": "stderr",
          "output_type": "stream",
          "text": [
            "100%|██████████| 10/10 [00:08<00:00,  1.18it/s]\n"
          ]
        },
        {
          "name": "stdout",
          "output_type": "stream",
          "text": [
            "epoch 39 - train loss: 0.029420026298612355\n"
          ]
        },
        {
          "name": "stderr",
          "output_type": "stream",
          "text": [
            "                                                                              \r"
          ]
        },
        {
          "name": "stdout",
          "output_type": "stream",
          "text": [
            "epoch 39 - valid loss: 0.026572028640657663\n"
          ]
        },
        {
          "name": "stderr",
          "output_type": "stream",
          "text": [
            "100%|██████████| 10/10 [00:08<00:00,  1.18it/s]\n"
          ]
        },
        {
          "name": "stdout",
          "output_type": "stream",
          "text": [
            "epoch 40 - train loss: 0.02816280918195844\n"
          ]
        },
        {
          "name": "stderr",
          "output_type": "stream",
          "text": [
            "                                                                              \r"
          ]
        },
        {
          "name": "stdout",
          "output_type": "stream",
          "text": [
            "epoch 40 - valid loss: 0.027295669447630642\n"
          ]
        },
        {
          "name": "stderr",
          "output_type": "stream",
          "text": [
            "100%|██████████| 10/10 [00:08<00:00,  1.18it/s]\n"
          ]
        },
        {
          "name": "stdout",
          "output_type": "stream",
          "text": [
            "epoch 41 - train loss: 0.028026136569678783\n"
          ]
        },
        {
          "name": "stderr",
          "output_type": "stream",
          "text": [
            "                                                                              \r"
          ]
        },
        {
          "name": "stdout",
          "output_type": "stream",
          "text": [
            "epoch 41 - valid loss: 0.030118997767567636\n"
          ]
        },
        {
          "name": "stderr",
          "output_type": "stream",
          "text": [
            "100%|██████████| 10/10 [00:08<00:00,  1.18it/s]\n"
          ]
        },
        {
          "name": "stdout",
          "output_type": "stream",
          "text": [
            "epoch 42 - train loss: 0.02820960097014904\n"
          ]
        },
        {
          "name": "stderr",
          "output_type": "stream",
          "text": [
            "                                                                              \r"
          ]
        },
        {
          "name": "stdout",
          "output_type": "stream",
          "text": [
            "epoch 42 - valid loss: 0.03138926737010479\n"
          ]
        },
        {
          "name": "stderr",
          "output_type": "stream",
          "text": [
            "100%|██████████| 10/10 [00:08<00:00,  1.16it/s]\n"
          ]
        },
        {
          "name": "stdout",
          "output_type": "stream",
          "text": [
            "epoch 43 - train loss: 0.024287460930645467\n"
          ]
        },
        {
          "name": "stderr",
          "output_type": "stream",
          "text": [
            "                                                                              \r"
          ]
        },
        {
          "name": "stdout",
          "output_type": "stream",
          "text": [
            "epoch 43 - valid loss: 0.03537134937942028\n"
          ]
        },
        {
          "name": "stderr",
          "output_type": "stream",
          "text": [
            "100%|██████████| 10/10 [00:08<00:00,  1.17it/s]\n"
          ]
        },
        {
          "name": "stdout",
          "output_type": "stream",
          "text": [
            "epoch 44 - train loss: 0.02508307797834277\n"
          ]
        },
        {
          "name": "stderr",
          "output_type": "stream",
          "text": [
            "                                                                             "
          ]
        },
        {
          "name": "stdout",
          "output_type": "stream",
          "text": [
            "epoch 44 - valid loss: 0.031094895862042903\n"
          ]
        },
        {
          "name": "stderr",
          "output_type": "stream",
          "text": [
            "\r"
          ]
        }
      ],
      "source": [
        "train_losses, valid_losses = train(tinypointnet, train_loader, valid_loader, save=True)"
      ]
    },
    {
      "cell_type": "markdown",
      "metadata": {
        "id": "AxxvdXzn10u5"
      },
      "source": [
        "## Visualize the Training trend"
      ]
    },
    {
      "cell_type": "code",
      "execution_count": 449,
      "metadata": {
        "id": "22ECIGIZ10u6"
      },
      "outputs": [],
      "source": [
        "def numpy_ewma_vectorized_v2(data, window=10):\n",
        "    # Return the Exponentially Weighted Moving Average\n",
        "    # for better visualizing the \"trend\" of the metrics\n",
        "\n",
        "    alpha = 2 /(window + 1.0)\n",
        "    alpha_rev = 1-alpha\n",
        "    n = data.shape[0]\n",
        "\n",
        "    pows = alpha_rev**(np.arange(n+1))\n",
        "\n",
        "    scale_arr = 1/pows[:-1]\n",
        "    offset = data[0]*pows[1:]\n",
        "    pw0 = alpha*alpha_rev**(n-1)\n",
        "\n",
        "    mult = data*pw0*scale_arr\n",
        "    cumsums = mult.cumsum()\n",
        "    out = offset + cumsums*scale_arr[::-1]\n",
        "    return out"
      ]
    },
    {
      "cell_type": "markdown",
      "metadata": {
        "id": "u2PDOXU710u6"
      },
      "source": [
        "### Plot the trend of train and valid losses\n",
        "By using an Exponentially Weighted Moving Average of the losses,\n",
        "we can better understand the behaviour of our network by filtering out\n",
        "the noisy *local values* and focusing more on the *global trend*."
      ]
    },
    {
      "cell_type": "code",
      "execution_count": 450,
      "metadata": {
        "colab": {
          "base_uri": "https://localhost:8080/",
          "height": 447
        },
        "id": "3PIDERVU10u6",
        "outputId": "6107e926-7ae3-4301-ad87-59f03c0bedc2"
      },
      "outputs": [
        {
          "data": {
            "text/plain": [
              "<matplotlib.legend.Legend at 0x1e299f74fd0>"
            ]
          },
          "execution_count": 450,
          "metadata": {},
          "output_type": "execute_result"
        },
        {
          "data": {
            "image/png": "[encoded data removed]",
            "text/plain": [
              "<Figure size 640x480 with 1 Axes>"
            ]
          },
          "metadata": {},
          "output_type": "display_data"
        }
      ],
      "source": [
        "plt.plot(train_losses, label=\"train losses\", color='r', alpha=0.2)\n",
        "plt.plot(valid_losses, label=\"valid losses\", color='b', alpha=0.2)\n",
        "plt.plot(numpy_ewma_vectorized_v2(np.array(train_losses)), label=\"train losses EMA\", color='r')\n",
        "plt.plot(numpy_ewma_vectorized_v2(np.array(valid_losses)), label=\"valid losses EMA\", color='b')\n",
        "plt.legend()"
      ]
    },
    {
      "cell_type": "markdown",
      "metadata": {
        "id": "irrVJH1UJb92"
      },
      "source": [
        "# Test: feature matching\n",
        "\n",
        "Let's compute the model test metrics\n",
        "\n",
        "> First we need to load the best model weights\n",
        "\n",
        "\n",
        "\n"
      ]
    },
    {
      "cell_type": "markdown",
      "metadata": {
        "id": "bKvjnBLt-aGa"
      },
      "source": [
        "## Load checkpoint"
      ]
    },
    {
      "cell_type": "code",
      "execution_count": 451,
      "metadata": {
        "colab": {
          "base_uri": "https://localhost:8080/"
        },
        "id": "-IqRQrxg10u6",
        "outputId": "6f91c221-4c8e-4a05-bab1-c14bb4bdc13b"
      },
      "outputs": [
        {
          "name": "stderr",
          "output_type": "stream",
          "text": [
            "C:\\Users\\Juri\\AppData\\Local\\Temp\\ipykernel_15092\\277679717.py:6: FutureWarning: You are using `torch.load` with `weights_only=False` (the current default value), which uses the default pickle module implicitly. It is possible to construct malicious pickle data which will execute arbitrary code during unpickling (See https://github.com/pytorch/pytorch/blob/main/SECURITY.md#untrusted-models for more details). In a future release, the default value for `weights_only` will be flipped to `True`. This limits the functions that could be executed during unpickling. Arbitrary objects will no longer be allowed to be loaded via this mode unless they are explicitly allowlisted by the user via `torch.serialization.add_safe_globals`. We recommend you start setting `weights_only=True` for any use case where you don't have full control of the loaded file. Please open an issue on GitHub for any issues related to this experimental feature.\n",
            "  tinypointnet.load_state_dict(torch.load(path))\n"
          ]
        },
        {
          "data": {
            "text/plain": [
              "TinyPointNet(\n",
              "  (input_transform): TNet(\n",
              "    (mlp1): MLP(\n",
              "      (conv): Conv1d(3, 64, kernel_size=(1,), stride=(1,))\n",
              "      (bn): BatchNorm1d(64, eps=1e-05, momentum=0.1, affine=True, track_running_stats=True)\n",
              "    )\n",
              "    (mlp2): MLP(\n",
              "      (conv): Conv1d(64, 128, kernel_size=(1,), stride=(1,))\n",
              "      (bn): BatchNorm1d(128, eps=1e-05, momentum=0.1, affine=True, track_running_stats=True)\n",
              "    )\n",
              "    (mlp3): MLP(\n",
              "      (conv): Conv1d(128, 1024, kernel_size=(1,), stride=(1,))\n",
              "      (bn): BatchNorm1d(1024, eps=1e-05, momentum=0.1, affine=True, track_running_stats=True)\n",
              "    )\n",
              "    (fc_bn1): FC_BN(\n",
              "      (lin): Linear(in_features=1024, out_features=512, bias=True)\n",
              "      (bn): BatchNorm1d(512, eps=1e-05, momentum=0.1, affine=True, track_running_stats=True)\n",
              "    )\n",
              "    (fc_bn2): FC_BN(\n",
              "      (lin): Linear(in_features=512, out_features=256, bias=True)\n",
              "      (bn): BatchNorm1d(256, eps=1e-05, momentum=0.1, affine=True, track_running_stats=True)\n",
              "    )\n",
              "    (fc3): Linear(in_features=256, out_features=9, bias=True)\n",
              "  )\n",
              "  (feature_transform): TNet(\n",
              "    (mlp1): MLP(\n",
              "      (conv): Conv1d(64, 64, kernel_size=(1,), stride=(1,))\n",
              "      (bn): BatchNorm1d(64, eps=1e-05, momentum=0.1, affine=True, track_running_stats=True)\n",
              "    )\n",
              "    (mlp2): MLP(\n",
              "      (conv): Conv1d(64, 128, kernel_size=(1,), stride=(1,))\n",
              "      (bn): BatchNorm1d(128, eps=1e-05, momentum=0.1, affine=True, track_running_stats=True)\n",
              "    )\n",
              "    (mlp3): MLP(\n",
              "      (conv): Conv1d(128, 1024, kernel_size=(1,), stride=(1,))\n",
              "      (bn): BatchNorm1d(1024, eps=1e-05, momentum=0.1, affine=True, track_running_stats=True)\n",
              "    )\n",
              "    (fc_bn1): FC_BN(\n",
              "      (lin): Linear(in_features=1024, out_features=512, bias=True)\n",
              "      (bn): BatchNorm1d(512, eps=1e-05, momentum=0.1, affine=True, track_running_stats=True)\n",
              "    )\n",
              "    (fc_bn2): FC_BN(\n",
              "      (lin): Linear(in_features=512, out_features=256, bias=True)\n",
              "      (bn): BatchNorm1d(256, eps=1e-05, momentum=0.1, affine=True, track_running_stats=True)\n",
              "    )\n",
              "    (fc3): Linear(in_features=256, out_features=4096, bias=True)\n",
              "  )\n",
              "  (mlp_A_1): MLP(\n",
              "    (conv): Conv1d(3, 64, kernel_size=(1,), stride=(1,))\n",
              "    (bn): BatchNorm1d(64, eps=1e-05, momentum=0.1, affine=True, track_running_stats=True)\n",
              "  )\n",
              "  (mlp_A_2): MLP(\n",
              "    (conv): Conv1d(64, 64, kernel_size=(1,), stride=(1,))\n",
              "    (bn): BatchNorm1d(64, eps=1e-05, momentum=0.1, affine=True, track_running_stats=True)\n",
              "  )\n",
              "  (mlp_B_1): MLP(\n",
              "    (conv): Conv1d(64, 64, kernel_size=(1,), stride=(1,))\n",
              "    (bn): BatchNorm1d(64, eps=1e-05, momentum=0.1, affine=True, track_running_stats=True)\n",
              "  )\n",
              "  (mlp_B_2): MLP(\n",
              "    (conv): Conv1d(64, 128, kernel_size=(1,), stride=(1,))\n",
              "    (bn): BatchNorm1d(128, eps=1e-05, momentum=0.1, affine=True, track_running_stats=True)\n",
              "  )\n",
              "  (mlp_B_3): MLP(\n",
              "    (conv): Conv1d(128, 256, kernel_size=(1,), stride=(1,))\n",
              "    (bn): BatchNorm1d(256, eps=1e-05, momentum=0.1, affine=True, track_running_stats=True)\n",
              "  )\n",
              ")"
            ]
          },
          "execution_count": 451,
          "metadata": {},
          "output_type": "execute_result"
        }
      ],
      "source": [
        "if running_on_colab:\n",
        "    path = os.path.join(drive_path, \"MyDrive\", \"tinypointnetmodel.yml\")\n",
        "else:\n",
        "    path = os.path.join(\"tinypointnetmodel.yml\")\n",
        "tinypointnet = TinyPointNet()\n",
        "tinypointnet.load_state_dict(torch.load(path))\n",
        "tinypointnet.to(device)"
      ]
    },
    {
      "cell_type": "markdown",
      "metadata": {
        "id": "itY5hBZ9-aGa"
      },
      "source": [
        "## Prepare the test set"
      ]
    },
    {
      "cell_type": "code",
      "execution_count": 422,
      "metadata": {
        "colab": {
          "base_uri": "https://localhost:8080/"
        },
        "id": "PI4YkY6Od2PH",
        "outputId": "86872002-fef2-424b-d7a6-76fd72451fdc"
      },
      "outputs": [
        {
          "name": "stderr",
          "output_type": "stream",
          "text": [
            "100%|██████████| 2000/2000 [00:00<00:00, 94689.17it/s]\n"
          ]
        }
      ],
      "source": [
        "test_ds.generate_test_set(0, 2000)\n",
        "\n",
        "## build the ground truth nearest neighbors\n",
        "## in other words, find thepoints in the noisy test points\n",
        "## that are the nearest neighbors to the original, sampled, test points\n",
        "test_ds.generate_noisy_test_set(0)\n"
      ]
    },
    {
      "cell_type": "markdown",
      "metadata": {
        "id": "UIS7oTgo-aGa"
      },
      "source": [
        "### Visualize the sampled test points\n",
        "Little red spheres represent the test points sampled from the original test mesh"
      ]
    },
    {
      "cell_type": "code",
      "execution_count": 452,
      "metadata": {
        "colab": {
          "base_uri": "https://localhost:8080/",
          "height": 542
        },
        "id": "Ku_hmkSA-aGa",
        "outputId": "a1681705-10c6-4719-8dc7-8cad38986404"
      },
      "outputs": [],
      "source": [
        "pcd = o3d.geometry.PointCloud()\n",
        "pcd.points = o3d.utility.Vector3dVector(test_ds.test_points_sampled_n)\n",
        "pcd.paint_uniform_color([0.5, 0.5, 0.5])\n",
        "geoms = [pcd]\n",
        "\n",
        "# visualize the colored point cloud\n",
        "o3d.visualization.draw_geometries(geoms)"
      ]
    },
    {
      "cell_type": "code",
      "execution_count": 453,
      "metadata": {
        "colab": {
          "background_save": true
        },
        "id": "4ax50Dx1-aGe",
        "outputId": "47a763a9-fe55-4a91-c2a5-4f56dd69499a"
      },
      "outputs": [],
      "source": [
        "pcd = test_ds.get_sampled_pointcloud(mesh_idx=0, N=5000)\n",
        "pcd.paint_uniform_color([0.5, 0.5, 0.5])\n",
        "geoms = [pcd]\n",
        "for point in test_ds.test_points_sampled_n:\n",
        "    sphere = o3d.geometry.TriangleMesh.create_sphere(radius=1e-3)\n",
        "    sphere.translate(point)\n",
        "    sphere.paint_uniform_color([1, 0, 0])\n",
        "    geoms.append(sphere)\n",
        "\n",
        "# visualize the colored point cloud\n",
        "o3d.visualization.draw_geometries(geoms)\n"
      ]
    },
    {
      "cell_type": "markdown",
      "metadata": {
        "id": "Cr9ikAj--aGe"
      },
      "source": [
        "### Compute the descriptor of each point in each point set"
      ]
    },
    {
      "cell_type": "code",
      "execution_count": 454,
      "metadata": {
        "id": "d3jBS-ev10u6"
      },
      "outputs": [
        {
          "name": "stderr",
          "output_type": "stream",
          "text": [
            "100%|██████████| 2000/2000 [00:13<00:00, 146.31it/s]\n",
            "100%|██████████| 2000/2000 [00:13<00:00, 149.38it/s]\n"
          ]
        }
      ],
      "source": [
        "descs   = test_ds.compute_descriptors(tinypointnet)\n",
        "descs_n = test_ds.compute_descriptors(tinypointnet, noisy=True)"
      ]
    },
    {
      "cell_type": "markdown",
      "metadata": {
        "id": "xewsAugY-aGe"
      },
      "source": [
        "## Matching time\n",
        "In other words, get the descriptor from the noisy point cloud which is closest to the query descriptor from the original point cloud"
      ]
    },
    {
      "cell_type": "code",
      "execution_count": 455,
      "metadata": {
        "id": "0qN0slbv-aGe"
      },
      "outputs": [
        {
          "name": "stderr",
          "output_type": "stream",
          "text": [
            "100%|██████████| 2000/2000 [00:00<00:00, 23313.60it/s]\n"
          ]
        }
      ],
      "source": [
        "pcd = test_ds.get_sampled_pointcloud(mesh_idx=0, N=5000)\n",
        "pcd.paint_uniform_color([0.5, 0.5, 0.5])\n",
        "geoms = [pcd]\n",
        "for row in tqdm(range(test_ds.test_points_sampled_n.shape[0])):\n",
        "    anchor       = test_ds.test_points_sampled[row]\n",
        "    sphere = o3d.geometry.TriangleMesh.create_sphere(radius=1e-3)\n",
        "    sphere.translate(anchor)\n",
        "    sphere.paint_uniform_color([1, 0, 0])\n",
        "    geoms.append(sphere)\n",
        "\n",
        "\n",
        "o3d.visualization.draw_geometries(geoms)\n"
      ]
    },
    {
      "cell_type": "code",
      "execution_count": 456,
      "metadata": {
        "id": "wwnHVKf0-aGe"
      },
      "outputs": [
        {
          "name": "stderr",
          "output_type": "stream",
          "text": [
            "100%|██████████| 2000/2000 [00:14<00:00, 137.08it/s]"
          ]
        },
        {
          "name": "stdout",
          "output_type": "stream",
          "text": [
            "\n",
            "accuracy: 65.450%\n"
          ]
        },
        {
          "name": "stderr",
          "output_type": "stream",
          "text": [
            "\n"
          ]
        }
      ],
      "source": [
        "correct = tot = 0\n",
        "\n",
        "for row in tqdm(range(test_ds.test_points_sampled.shape[0])):\n",
        "    desc = descs[row, :]\n",
        "    dists = []\n",
        "    anchor       = test_ds.test_points_sampled[row]\n",
        "    true_near_pt = test_ds.test_points_sampled_n[row]\n",
        "\n",
        "    for row2 in range(test_ds.test_points_sampled_n.shape[0]):\n",
        "        desc2 = descs_n[row2, :]\n",
        "        dist = np.linalg.norm(desc - desc2)\n",
        "        dists.append(dist)\n",
        "\n",
        "    min_row = np.argmin(np.asarray(dists))\n",
        "\n",
        "    pred_pt = test_ds.test_points_sampled_n[min_row].squeeze()\n",
        "\n",
        "    dist = np.linalg.norm(true_near_pt - pred_pt)\n",
        "\n",
        "    #visualize(test_ds.test_points_sampled,\n",
        "    #           anchor = anchor,\n",
        "     #          positive = pred_pt,\n",
        "      #        radius=test_ds.radius)\n",
        "\n",
        "    if dist<test_ds.radius:\n",
        "        correct += 1\n",
        "    tot += 1\n",
        "\n",
        "print()\n",
        "print(f\"accuracy: {correct*100/tot:6.3f}%\")\n",
        "\n"
      ]
    },
    {
      "cell_type": "code",
      "execution_count": null,
      "metadata": {},
      "outputs": [],
      "source": []
    }
  ],
  "metadata": {
    "accelerator": "TPU",
    "colab": {
      "gpuType": "V28",
      "provenance": []
    },
    "kernelspec": {
      "display_name": "pytorch_env",
      "language": "python",
      "name": "python3"
    },
    "language_info": {
      "codemirror_mode": {
        "name": "ipython",
        "version": 3
      },
      "file_extension": ".py",
      "mimetype": "text/x-python",
      "name": "python",
      "nbconvert_exporter": "python",
      "pygments_lexer": "ipython3",
      "version": "3.9.7"
    }
  },
  "nbformat": 4,
  "nbformat_minor": 0
}
